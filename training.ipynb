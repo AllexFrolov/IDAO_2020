{
 "cells": [
  {
   "cell_type": "code",
   "execution_count": null,
   "metadata": {},
   "outputs": [],
   "source": [
    "import numpy as np\n",
    "import pandas as pd\n",
    "import torch\n",
    "import torch.optim as optim\n",
    "from torch.optim.lr_scheduler import ReduceLROnPlateau\n",
    "%matplotlib inline\n",
    "\n",
    "from preprocessing import add_delta_time, Norm, split_data, split_folds, Data_Sat\n",
    "from model_builder import LSTM, cross_validation, fit, load_model"
   ]
  },
  {
   "cell_type": "code",
   "execution_count": null,
   "metadata": {},
   "outputs": [],
   "source": [
    "is_cuda = torch.cuda.is_available()\n",
    "if is_cuda:\n",
    "    device = torch.device('cuda:0')\n",
    "    from torch.cuda import FloatTensor\n",
    "else:\n",
    "    device = torch.device('cpu')\n",
    "    from torch import FloatTensor\n",
    "    \n",
    "try:\n",
    "    from google.colab import drive\n",
    "    is_in_colab = True\n",
    "except:\n",
    "    is_in_colab = False"
   ]
  },
  {
   "cell_type": "code",
   "execution_count": null,
   "metadata": {},
   "outputs": [],
   "source": [
    "# вывод информации о выданном с colab GPU\n",
    "if is_in_colab:\n",
    "    !ln -sf /opt/bin/nvidia-smi /usr/bin/nvidia-smi\n",
    "    !pip install gputil\n",
    "    !pip install psutil\n",
    "    !pip install humanize\n",
    "    import psutil\n",
    "    import humanize\n",
    "    import os\n",
    "    import GPUtil as GPU\n",
    "    GPUs = GPU.getGPUs()\n",
    "    gpu = GPUs[0]\n",
    "    def printm():\n",
    "        process = psutil.Process(os.getpid())\n",
    "        print(\"Gen RAM Free: \" + humanize.naturalsize( psutil.virtual_memory().available ), \" | Proc size: \" + humanize.naturalsize( process.memory_info().rss))\n",
    "        print(\"GPU RAM Free: {0:.0f}MB | Used: {1:.0f}MB | Util {2:3.0f}% | Total {3:.0f}MB\".format(gpu.memoryFree, gpu.memoryUsed, gpu.memoryUtil*100, gpu.memoryTotal))\n",
    "\n",
    "    printm()"
   ]
  },
  {
   "cell_type": "code",
   "execution_count": null,
   "metadata": {},
   "outputs": [],
   "source": [
    "if is_in_colab:\n",
    "    drive.mount('/content/drive')\n",
    "    data_folder = r'/content/drive/My Drive/Colab/IDAO_2020/'\n",
    "else:\n",
    "    data_folder = r'./data/'"
   ]
  },
  {
   "cell_type": "code",
   "execution_count": null,
   "metadata": {},
   "outputs": [],
   "source": [
    "#data preparation\n",
    "data = pd.read_csv(data_folder + 'train.csv', parse_dates=['epoch'])\n",
    "columns = ['id', 'sat_id', 'delta_seconds', 'x_sim', 'y_sim', 'z_sim', 'Vx_sim', 'Vy_sim', 'Vz_sim',\n",
    "           'x', 'y', 'z', 'Vx', 'Vy', 'Vz']\n",
    "data_with_dt = add_delta_time(data, columns)\n",
    "data_with_dt.set_index(keys='sat_id', drop=False, inplace=True)\n"
   ]
  },
  {
   "cell_type": "code",
   "execution_count": null,
   "metadata": {},
   "outputs": [],
   "source": [
    "#data normalization\n",
    "normalizer = Norm(data_with_dt, ['id', 'sat_id', ])\n",
    "norm_data = normalizer.l2_norm(data_with_dt)"
   ]
  },
  {
   "cell_type": "code",
   "execution_count": null,
   "metadata": {},
   "outputs": [],
   "source": [
    "#data splitting\n",
    "np.random.seed(42)\n",
    "\n",
    "train_indices, test_indices = split_data(len(data['sat_id'].unique()))\n",
    "folds = split_folds(train_indices, 2)\n",
    "test_data = norm_data.loc[test_indices]"
   ]
  },
  {
   "cell_type": "code",
   "execution_count": null,
   "metadata": {},
   "outputs": [],
   "source": [
    "# data settings\n",
    "sequence_length = 100\n",
    "max_sequence_count = 50\n",
    "\n",
    "# train settings\n",
    "batch_size = 10\n",
    "epoch_count = 1\n",
    "plot_draw = False\n",
    "\n",
    "# optimizer settings\n",
    "learning_rate = 1e-3\n",
    "weight_decay = 0\n",
    "\n",
    "# model settings\n",
    "lstm_hidden_dim = 10\n",
    "lstm_hidden_lauers_count = 1\n",
    "bidirectional = False\n",
    "dropout = 0\n",
    "\n",
    "# scheduler settings\n",
    "factor = 0.1\n",
    "patience = 2\n",
    "threshold = 1e-2\n",
    "\n",
    "model = LSTM(device, lstm_hidden_dim=lstm_hidden_dim,\n",
    "             lstm_layers_count=lstm_hidden_lauers_count,\n",
    "             bidirectional=bidirectional,\n",
    "             dropout=dropout,\n",
    "            ).to(device)\n",
    "\n",
    "loss_function = torch.nn.MSELoss()\n",
    "optimizer = optim.Adam(\n",
    "                        model.parameters(),\n",
    "                        lr=learning_rate, \n",
    "                        weight_decay=weight_decay\n",
    "                    )\n",
    "\n",
    "scheduler = ReduceLROnPlateau(optimizer, mode='max', factor=factor, \n",
    "                              patience=patience, verbose=True, threshold=threshold\n",
    "                              )"
   ]
  },
  {
   "cell_type": "code",
   "execution_count": null,
   "metadata": {},
   "outputs": [],
   "source": [
    "tr_hist, val_hist = cross_validation(model, norm_data, folds, loss_function, \n",
    "                                     sequence_length, max_sequence_count,\n",
    "                                     optimizer, scheduler, \n",
    "                                     epochs_count=epoch_count,\n",
    "                                     batch_size=batch_size, plot_draw=plot_draw\n",
    "                                     )"
   ]
  },
  {
   "cell_type": "code",
   "execution_count": null,
   "metadata": {},
   "outputs": [],
   "source": [
    "print('Mean_train_score: ', np.mean(tr_hist), ' Mean_val_score: ', np.mean(val_hist))"
   ]
  },
  {
   "cell_type": "code",
   "execution_count": null,
   "metadata": {},
   "outputs": [],
   "source": [
    "train_dataset = Data_Sat(device, norm_data.loc[train_indices], sequence_length)\n",
    "train_dataset.generate_samples(max_sequence_count, False)"
   ]
  },
  {
   "cell_type": "code",
   "execution_count": null,
   "metadata": {},
   "outputs": [],
   "source": [
    "# Train model\n",
    "train_hist, val_hist = fit(model, loss_function, batch_size=batch_size, epochs_count=epoch_count, optimizer=optimizer,  \n",
    "        scheduler=scheduler, train_dataset=train_dataset, val_dataset=None, plot_draw=False)"
   ]
  },
  {
   "cell_type": "code",
   "execution_count": null,
   "metadata": {},
   "outputs": [],
   "source": [
    "test_dataset = Data_Sat(device, test_data, sequence_length)\n",
    "test_dataset.generate_samples(max_sequence_count=50)"
   ]
  },
  {
   "cell_type": "code",
   "execution_count": null,
   "metadata": {},
   "outputs": [],
   "source": [
    "def smape(satellite_predicted_values, satellite_true_values):\n",
    "    # the division, addition and subtraction are point twice\n",
    "    return torch.mean(torch.abs(satellite_predicted_values - satellite_true_values)\n",
    "        / (torch.abs(satellite_predicted_values) + torch.abs(satellite_true_values)))\n"
   ]
  },
  {
   "cell_type": "code",
   "execution_count": null,
   "metadata": {},
   "outputs": [],
   "source": [
    "def predict(model, sat_data):\n",
    "    \"\"\"\n",
    "    Получает на вход модель и разделенные на sequences_count, sequence_length данные. Предсказывает реальные значение по спутнику.\n",
    "    Выводит Tensor формы (n_samples, n_features).\n",
    "    \"\"\"\n",
    "    sequences_count, sequence_length, _ = sat_data.shape\n",
    "    result = torch.zeros((sequences_count*sequence_length, 6)).to(model.device)\n",
    "    model.eval()\n",
    "    model.init_hidden(1)\n",
    "    for i, seq in enumerate(sat_data):\n",
    "        inputs = FloatTensor(seq[:, None, :]).to(model.device)\n",
    "        predicted = model(inputs)\n",
    "\n",
    "        predicted = predicted.view(sequence_length, -1).detach()\n",
    "        result[i*sequence_length : (i+1)*sequence_length] = predicted\n",
    "    return result"
   ]
  },
  {
   "cell_type": "code",
   "execution_count": null,
   "metadata": {},
   "outputs": [],
   "source": [
    "#Predict test and compute score\n",
    "metric = 0\n",
    "test_predicts = []\n",
    "for sat in test_dataset.satellite_dict:\n",
    "    sat_data = test_dataset.satellite_dict[sat]\n",
    "    X = FloatTensor(sat_data[..., :7]).to(device)\n",
    "    y = FloatTensor(sat_data[..., 7:]).view(-1, 6).to(device)\n",
    "    predicts = predict(model, X)[y!=0].view(-1, 6)\n",
    "    test_predicts.append(predicts.cpu().detach().numpy())\n",
    "    metric += smape(predicts, \n",
    "                    y[y!=0].view(-1, 6)\n",
    "                   )\n",
    "    \n",
    "metric /= len(test_dataset.satellite_dict)\n",
    "score = (1-metric)*100\n",
    "print(f'Test score: {float(score.cpu()):.2f}')"
   ]
  },
  {
   "cell_type": "code",
   "execution_count": null,
   "metadata": {},
   "outputs": [],
   "source": [
    "test_dataset.predict_to_df(test_predicts)\n",
    "normalizer.back_l2_norm(test_dataset.result).head()"
   ]
  },
  {
   "cell_type": "code",
   "execution_count": null,
   "metadata": {},
   "outputs": [],
   "source": [
    "data_with_dt.loc[test_indices].head()"
   ]
  },
  {
   "cell_type": "code",
   "execution_count": null,
   "metadata": {},
   "outputs": [],
   "source": [
    "file_name = 'score_80_v1.model'\n",
    "path = data_folder  + file_name"
   ]
  },
  {
   "cell_type": "code",
   "execution_count": null,
   "metadata": {},
   "outputs": [],
   "source": [
    "save_model(path, model, optimizer, scheduler, train_hist, val_hist)"
   ]
  }
 ],
 "metadata": {
  "kernelspec": {
   "display_name": "Python 3",
   "language": "python",
   "name": "python3"
  },
  "language_info": {
   "codemirror_mode": {
    "name": "ipython",
    "version": 3
   },
   "file_extension": ".py",
   "mimetype": "text/x-python",
   "name": "python",
   "nbconvert_exporter": "python",
   "pygments_lexer": "ipython3",
   "version": "3.7.4"
  }
 },
 "nbformat": 4,
 "nbformat_minor": 2
}
