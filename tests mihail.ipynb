{
 "cells": [
  {
   "cell_type": "code",
   "execution_count": 94,
   "metadata": {
    "collapsed": true,
    "pycharm": {
     "is_executing": false
    }
   },
   "outputs": [],
   "source": [
    "import numpy as np\n",
    "import matplotlib\n",
    "import pandas as pd\n",
    "import torch\n",
    "import torch.nn as nn\n",
    "import torch.optim as optim\n",
    "from torch.utils.data.sampler import SubsetRandomSampler, Sampler\n"
   ]
  },
  {
   "cell_type": "code",
   "execution_count": 48,
   "outputs": [],
   "source": [
    "df = pd.read_csv(r'./train.csv')"
   ],
   "metadata": {
    "collapsed": false,
    "pycharm": {
     "name": "#%% \n",
     "is_executing": false
    }
   }
  },
  {
   "cell_type": "code",
   "execution_count": 40,
   "outputs": [],
   "source": [
    "#temporary crop dataset for fast testing\n",
    "df = df[0:1000]"
   ],
   "metadata": {
    "collapsed": false,
    "pycharm": {
     "name": "#%%\n",
     "is_executing": false
    }
   }
  },
  {
   "cell_type": "code",
   "execution_count": 41,
   "outputs": [
    {
     "data": {
      "text/plain": "   id                    epoch  sat_id             x             y  \\\n0   0  2014-01-01T00:00:00.000       0  -8855.823863  13117.780146   \n1   1  2014-01-01T00:46:43.000       0 -10567.672384   1619.746066   \n2   2  2014-01-01T01:33:26.001       0 -10578.684043 -10180.467460   \n3   3  2014-01-01T02:20:09.001       0  -9148.251857 -20651.437460   \n4   4  2014-01-01T03:06:52.002       0  -6719.092336 -28929.061629   \n\n              z        Vx        Vy        Vz         x_sim         y_sim  \\\n0 -20728.353233 -0.908303 -3.808436 -2.022083  -8843.131454  13138.221690   \n1 -24451.813271 -0.302590 -4.272617 -0.612796 -10555.500066   1649.289367   \n2 -24238.280949  0.277435 -4.047522  0.723155 -10571.858472 -10145.939908   \n3 -20720.381279  0.715600 -3.373762  1.722115  -9149.620794 -20618.200201   \n4 -14938.907967  0.992507 -2.519732  2.344703  -6729.358857 -28902.271436   \n\n          z_sim    Vx_sim    Vy_sim    Vz_sim  \n0 -20741.615306 -0.907527 -3.804930 -2.024133  \n1 -24473.089556 -0.303704 -4.269816 -0.616468  \n2 -24271.169776  0.274880 -4.046788  0.718768  \n3 -20765.019094  0.712437 -3.375202  1.718306  \n4 -14992.399986  0.989382 -2.522618  2.342237  ",
      "text/html": "<div>\n<style scoped>\n    .dataframe tbody tr th:only-of-type {\n        vertical-align: middle;\n    }\n\n    .dataframe tbody tr th {\n        vertical-align: top;\n    }\n\n    .dataframe thead th {\n        text-align: right;\n    }\n</style>\n<table border=\"1\" class=\"dataframe\">\n  <thead>\n    <tr style=\"text-align: right;\">\n      <th></th>\n      <th>id</th>\n      <th>epoch</th>\n      <th>sat_id</th>\n      <th>x</th>\n      <th>y</th>\n      <th>z</th>\n      <th>Vx</th>\n      <th>Vy</th>\n      <th>Vz</th>\n      <th>x_sim</th>\n      <th>y_sim</th>\n      <th>z_sim</th>\n      <th>Vx_sim</th>\n      <th>Vy_sim</th>\n      <th>Vz_sim</th>\n    </tr>\n  </thead>\n  <tbody>\n    <tr>\n      <td>0</td>\n      <td>0</td>\n      <td>2014-01-01T00:00:00.000</td>\n      <td>0</td>\n      <td>-8855.823863</td>\n      <td>13117.780146</td>\n      <td>-20728.353233</td>\n      <td>-0.908303</td>\n      <td>-3.808436</td>\n      <td>-2.022083</td>\n      <td>-8843.131454</td>\n      <td>13138.221690</td>\n      <td>-20741.615306</td>\n      <td>-0.907527</td>\n      <td>-3.804930</td>\n      <td>-2.024133</td>\n    </tr>\n    <tr>\n      <td>1</td>\n      <td>1</td>\n      <td>2014-01-01T00:46:43.000</td>\n      <td>0</td>\n      <td>-10567.672384</td>\n      <td>1619.746066</td>\n      <td>-24451.813271</td>\n      <td>-0.302590</td>\n      <td>-4.272617</td>\n      <td>-0.612796</td>\n      <td>-10555.500066</td>\n      <td>1649.289367</td>\n      <td>-24473.089556</td>\n      <td>-0.303704</td>\n      <td>-4.269816</td>\n      <td>-0.616468</td>\n    </tr>\n    <tr>\n      <td>2</td>\n      <td>2</td>\n      <td>2014-01-01T01:33:26.001</td>\n      <td>0</td>\n      <td>-10578.684043</td>\n      <td>-10180.467460</td>\n      <td>-24238.280949</td>\n      <td>0.277435</td>\n      <td>-4.047522</td>\n      <td>0.723155</td>\n      <td>-10571.858472</td>\n      <td>-10145.939908</td>\n      <td>-24271.169776</td>\n      <td>0.274880</td>\n      <td>-4.046788</td>\n      <td>0.718768</td>\n    </tr>\n    <tr>\n      <td>3</td>\n      <td>3</td>\n      <td>2014-01-01T02:20:09.001</td>\n      <td>0</td>\n      <td>-9148.251857</td>\n      <td>-20651.437460</td>\n      <td>-20720.381279</td>\n      <td>0.715600</td>\n      <td>-3.373762</td>\n      <td>1.722115</td>\n      <td>-9149.620794</td>\n      <td>-20618.200201</td>\n      <td>-20765.019094</td>\n      <td>0.712437</td>\n      <td>-3.375202</td>\n      <td>1.718306</td>\n    </tr>\n    <tr>\n      <td>4</td>\n      <td>4</td>\n      <td>2014-01-01T03:06:52.002</td>\n      <td>0</td>\n      <td>-6719.092336</td>\n      <td>-28929.061629</td>\n      <td>-14938.907967</td>\n      <td>0.992507</td>\n      <td>-2.519732</td>\n      <td>2.344703</td>\n      <td>-6729.358857</td>\n      <td>-28902.271436</td>\n      <td>-14992.399986</td>\n      <td>0.989382</td>\n      <td>-2.522618</td>\n      <td>2.342237</td>\n    </tr>\n  </tbody>\n</table>\n</div>"
     },
     "metadata": {},
     "output_type": "execute_result",
     "execution_count": 41
    }
   ],
   "source": [
    "df.head()"
   ],
   "metadata": {
    "collapsed": false,
    "pycharm": {
     "name": "#%%\n",
     "is_executing": false
    }
   }
  },
  {
   "cell_type": "code",
   "execution_count": 43,
   "outputs": [
    {
     "data": {
      "text/plain": "(1000, 15)"
     },
     "metadata": {},
     "output_type": "execute_result",
     "execution_count": 43
    }
   ],
   "source": [
    "df.shape"
   ],
   "metadata": {
    "collapsed": false,
    "pycharm": {
     "name": "#%%\n",
     "is_executing": false
    }
   }
  },
  {
   "cell_type": "code",
   "execution_count": 79,
   "outputs": [
    {
     "data": {
      "text/plain": "id                 int64\nepoch     datetime64[ns]\nsat_id             int64\nx                float64\ny                float64\nz                float64\nVx               float64\nVy               float64\nVz               float64\nx_sim            float64\ny_sim            float64\nz_sim            float64\nVx_sim           float64\nVy_sim           float64\nVz_sim           float64\ndtype: object"
     },
     "metadata": {},
     "output_type": "execute_result",
     "execution_count": 79
    }
   ],
   "source": [
    "df.dtypes"
   ],
   "metadata": {
    "collapsed": false,
    "pycharm": {
     "name": "#%%\n",
     "is_executing": false
    }
   }
  },
  {
   "cell_type": "code",
   "execution_count": 78,
   "outputs": [],
   "source": [
    "df.epoch = pd.to_datetime(df.epoch)"
   ],
   "metadata": {
    "collapsed": false,
    "pycharm": {
     "name": "#%%\n",
     "is_executing": false
    }
   }
  },
  {
   "cell_type": "code",
   "execution_count": 46,
   "outputs": [
    {
     "data": {
      "text/plain": "Timedelta('0 days 00:46:43.001000')"
     },
     "metadata": {},
     "output_type": "execute_result",
     "execution_count": 46
    }
   ],
   "source": [
    "df.loc[902].epoch - df.loc[901].epoch"
   ],
   "metadata": {
    "collapsed": false,
    "pycharm": {
     "name": "#%%\n",
     "is_executing": false
    }
   }
  },
  {
   "cell_type": "code",
   "execution_count": 82,
   "outputs": [
    {
     "name": "stdout",
     "text": [
      "минимальное кол-во данных на спутник 94\n",
      "максимальное кол-во данных на спутник 6320\n",
      "среднее кол-во данных на спутник 1083\n",
      "медианное кол-во данных на спутник 676\n"
     ],
     "output_type": "stream"
    },
    {
     "data": {
      "text/plain": "count     600.000000\nmean     1083.186667\nstd      1093.148473\nmin        94.000000\n25%       389.250000\n50%       676.000000\n75%      1364.000000\nmax      6320.000000\nName: id, dtype: float64"
     },
     "metadata": {},
     "output_type": "execute_result",
     "execution_count": 82
    }
   ],
   "source": [
    "count_by_sat = df.groupby('sat_id').id.count()\n",
    "print(f'минимальное кол-во данных на спутник {count_by_sat.min()}')\n",
    "print(f'максимальное кол-во данных на спутник {count_by_sat.max()}')\n",
    "print(f'среднее кол-во данных на спутник {count_by_sat.mean():.0f}')\n",
    "print(f'медианное кол-во данных на спутник {count_by_sat.median():.0f}')\n",
    "count_by_sat.describe()"
   ],
   "metadata": {
    "collapsed": false,
    "pycharm": {
     "name": "#%%\n",
     "is_executing": false
    }
   }
  },
  {
   "cell_type": "code",
   "execution_count": 73,
   "outputs": [
    {
     "data": {
      "text/plain": "<matplotlib.axes._subplots.AxesSubplot at 0x43bcb6d8>"
     },
     "metadata": {},
     "output_type": "execute_result",
     "execution_count": 73
    },
    {
     "data": {
      "text/plain": "<Figure size 1080x360 with 1 Axes>",
      "image/png": "[encoded data removed]"
     },
     "metadata": {
      "needs_background": "light"
     },
     "output_type": "display_data"
    }
   ],
   "source": [
    "count_by_sat.plot.hist(bins=100, figsize=(15,5))"
   ],
   "metadata": {
    "collapsed": false,
    "pycharm": {
     "name": "#%%\n",
     "is_executing": false
    }
   }
  },
  {
   "cell_type": "code",
   "execution_count": 83,
   "outputs": [],
   "source": [
    "data_train = torch.from_numpy(df.drop(columns='epoch').values)"
   ],
   "metadata": {
    "collapsed": false,
    "pycharm": {
     "name": "#%%\n",
     "is_executing": false
    }
   }
  },
  {
   "cell_type": "code",
   "execution_count": 84,
   "outputs": [],
   "source": [
    "batch_size = 64\n",
    "\n",
    "data_size = data_train.data.shape[0]\n",
    "validation_split = .2\n",
    "split = int(np.floor(validation_split * data_size))\n",
    "indices = list(range(data_size))\n",
    "np.random.shuffle(indices)\n",
    "\n",
    "train_indices, val_indices = indices[split:], indices[:split]\n",
    "\n",
    "train_sampler = SubsetRandomSampler(train_indices)\n",
    "val_sampler = SubsetRandomSampler(val_indices)\n",
    "\n",
    "train_loader = torch.utils.data.DataLoader(data_train, batch_size=batch_size, \n",
    "                                           sampler=train_sampler)\n",
    "val_loader = torch.utils.data.DataLoader(data_train, batch_size=batch_size,\n",
    "                                         sampler=val_sampler)"
   ],
   "metadata": {
    "collapsed": false,
    "pycharm": {
     "name": "#%%\n",
     "is_executing": false
    }
   }
  },
  {
   "cell_type": "code",
   "execution_count": 85,
   "outputs": [],
   "source": [
    "def smape(satellite_predicted_values, satellite_true_values): \n",
    "    # the division, addition and subtraction are pointwise \n",
    "    return torch.mean(torch.abs((satellite_predicted_values - satellite_true_values) \n",
    "        / (torch.abs(satellite_predicted_values) + torch.abs(satellite_true_values)))) "
   ],
   "metadata": {
    "collapsed": false,
    "pycharm": {
     "name": "#%%\n",
     "is_executing": false
    }
   }
  },
  {
   "cell_type": "code",
   "execution_count": 96,
   "outputs": [
    {
     "name": "stdout",
     "text": [
      "tensor([[-0.0604,  0.1801],\n",
      "        [-0.0000,  0.0000]])\n"
     ],
     "output_type": "stream"
    }
   ],
   "source": [
    "#code to test, that loss function generate gradients\n",
    "model = nn.Linear(2, 2)\n",
    "x = torch.randn(1, 2)\n",
    "target = torch.randn(1, 2)\n",
    "output = model(x)\n",
    "loss = smape(output, target)\n",
    "loss.backward()\n",
    "print(model.weight.grad)"
   ],
   "metadata": {
    "collapsed": false,
    "pycharm": {
     "name": "#%%\n",
     "is_executing": false
    }
   }
  },
  {
   "cell_type": "code",
   "execution_count": null,
   "outputs": [],
   "source": [
    "nn_model = nn.Sequential(\n",
    "            nn.Linear(3*32*32, 100),\n",
    "            nn.ReLU(inplace=True),\n",
    "            nn.Linear(100, 10), \n",
    "         )\n",
    "nn_model.type(torch.FloatTensor)\n",
    "\n",
    "loss = nn.CrossEntropyLoss().type(torch.FloatTensor)\n",
    "loss = smape\n",
    "optimizer = optim.SGD(nn_model.parameters(), lr=1e-2, weight_decay=1e-1)"
   ],
   "metadata": {
    "collapsed": false,
    "pycharm": {
     "name": "#%%\n"
    }
   }
  },
  {
   "cell_type": "code",
   "execution_count": null,
   "outputs": [],
   "source": [
    "def train_model(model, train_loader, val_loader, loss, optimizer, num_epochs, scheduler=None):    \n",
    "    loss_history = []\n",
    "    train_history = []\n",
    "    val_history = []\n",
    "    for epoch in range(num_epochs):\n",
    "        model.train() # Enter train mode\n",
    "        \n",
    "        loss_accum = 0\n",
    "        correct_samples = 0\n",
    "        total_samples = 0\n",
    "        for i_step, (x, y) in enumerate(train_loader):\n",
    "            prediction = model(x)    \n",
    "            loss_value = loss(prediction, y)\n",
    "            optimizer.zero_grad()\n",
    "            loss_value.backward()\n",
    "            optimizer.step()\n",
    "            \n",
    "            _, indices = torch.max(prediction, 1)\n",
    "            correct_samples += torch.sum(indices == y)\n",
    "            total_samples += y.shape[0]\n",
    "            \n",
    "            loss_accum += loss_value\n",
    "\n",
    "        ave_loss = loss_accum / (i_step + 1)\n",
    "        train_accuracy = float(correct_samples) / total_samples\n",
    "        val_accuracy = compute_accuracy(model, val_loader)\n",
    "        \n",
    "        loss_history.append(float(ave_loss))\n",
    "        train_history.append(train_accuracy)\n",
    "        val_history.append(val_accuracy)\n",
    "        \n",
    "        print(\"Average loss: %f, Train accuracy: %f, Val accuracy: %f\" % (ave_loss, train_accuracy, val_accuracy))\n",
    "        \n",
    "        if scheduler is not None:\n",
    "            scheduler.step()\n",
    "                \n",
    "    return loss_history, train_history, val_history\n",
    "\n",
    "def compute_accuracy(model, loader):\n",
    "    \"\"\"\n",
    "    Computes accuracy on the dataset wrapped in a loader\n",
    "    \n",
    "    Returns: accuracy as a float value between 0 and 1\n",
    "    \"\"\"\n",
    "    model.eval() # Evaluation mode\n",
    "    \n",
    "    # TODO: Implement the inference of the model on all of the batches from loader,\n",
    "    #       and compute the overall accuracy.\n",
    "    # Hint: PyTorch has the argmax function!\n",
    "    \n",
    "    correct_samples = 0\n",
    "    total_samples = 0\n",
    "    \n",
    "    for x, y in loader:\n",
    "        prediction = torch.argmax(model(x), dim=1)\n",
    "        correct_samples += torch.sum(prediction == y)\n",
    "        total_samples += y.shape[0]\n",
    "    return float(correct_samples) / float(total_samples)"
   ],
   "metadata": {
    "collapsed": false,
    "pycharm": {
     "name": "#%%\n"
    }
   }
  }
 ],
 "metadata": {
  "kernelspec": {
   "display_name": "Python 3",
   "language": "python",
   "name": "python3"
  },
  "language_info": {
   "codemirror_mode": {
    "name": "ipython",
    "version": 2
   },
   "file_extension": ".py",
   "mimetype": "text/x-python",
   "name": "python",
   "nbconvert_exporter": "python",
   "pygments_lexer": "ipython2",
   "version": "2.7.6"
  },
  "pycharm": {
   "stem_cell": {
    "cell_type": "raw",
    "source": [],
    "metadata": {
     "collapsed": false
    }
   }
  }
 },
 "nbformat": 4,
 "nbformat_minor": 0
}